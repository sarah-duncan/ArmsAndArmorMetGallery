{
 "cells": [
  {
   "cell_type": "markdown",
   "metadata": {},
   "source": [
    "# Highlighted and Public Domain\n",
    "In this section I am going to do some data analysis of the Arms and Armor collection"
   ]
  },
  {
   "cell_type": "code",
   "execution_count": 6,
   "metadata": {},
   "outputs": [],
   "source": [
    "import pandas as pd"
   ]
  },
  {
   "cell_type": "code",
   "execution_count": 7,
   "metadata": {},
   "outputs": [],
   "source": [
    "met_json = open('met_arms_and_armor.json')\n",
    "arms_and_armor_df = pd.read_json(met_json)"
   ]
  },
  {
   "cell_type": "code",
   "execution_count": 8,
   "metadata": {},
   "outputs": [
    {
     "data": {
      "text/html": [
       "<div>\n",
       "<style scoped>\n",
       "    .dataframe tbody tr th:only-of-type {\n",
       "        vertical-align: middle;\n",
       "    }\n",
       "\n",
       "    .dataframe tbody tr th {\n",
       "        vertical-align: top;\n",
       "    }\n",
       "\n",
       "    .dataframe thead th {\n",
       "        text-align: right;\n",
       "    }\n",
       "</style>\n",
       "<table border=\"1\" class=\"dataframe\">\n",
       "  <thead>\n",
       "    <tr style=\"text-align: right;\">\n",
       "      <th></th>\n",
       "      <th>objectID</th>\n",
       "      <th>isHighlight</th>\n",
       "      <th>isPublicDomain</th>\n",
       "      <th>objectName</th>\n",
       "      <th>title</th>\n",
       "      <th>artistRole</th>\n",
       "      <th>artistDisplayName</th>\n",
       "      <th>artistBeginDate</th>\n",
       "      <th>artistEndDate</th>\n",
       "      <th>objectBeginDate</th>\n",
       "      <th>objectEndDate</th>\n",
       "      <th>medium</th>\n",
       "      <th>country</th>\n",
       "      <th>classification</th>\n",
       "    </tr>\n",
       "  </thead>\n",
       "  <tbody>\n",
       "    <tr>\n",
       "      <th>0</th>\n",
       "      <td>21810</td>\n",
       "      <td>False</td>\n",
       "      <td>True</td>\n",
       "      <td>Gorget</td>\n",
       "      <td>Gorget of an Officer of the King's American Re...</td>\n",
       "      <td></td>\n",
       "      <td></td>\n",
       "      <td></td>\n",
       "      <td></td>\n",
       "      <td>1781</td>\n",
       "      <td>1781</td>\n",
       "      <td>Brass, gold</td>\n",
       "      <td></td>\n",
       "      <td>Armor Parts-Gorgets</td>\n",
       "    </tr>\n",
       "    <tr>\n",
       "      <th>1</th>\n",
       "      <td>21811</td>\n",
       "      <td>False</td>\n",
       "      <td>True</td>\n",
       "      <td>Blade and mounting for a sword (Katana)</td>\n",
       "      <td>Blade and Mounting for a Sword (Katana)</td>\n",
       "      <td></td>\n",
       "      <td></td>\n",
       "      <td></td>\n",
       "      <td></td>\n",
       "      <td>1801</td>\n",
       "      <td>1900</td>\n",
       "      <td>Steel, wood, lacquer, iron, gold, copper-gold ...</td>\n",
       "      <td>Japan</td>\n",
       "      <td>Swords</td>\n",
       "    </tr>\n",
       "    <tr>\n",
       "      <th>2</th>\n",
       "      <td>21812</td>\n",
       "      <td>False</td>\n",
       "      <td>False</td>\n",
       "      <td>Thumb of a left gauntlet</td>\n",
       "      <td>Thumb of a Left Gauntlet</td>\n",
       "      <td></td>\n",
       "      <td></td>\n",
       "      <td></td>\n",
       "      <td></td>\n",
       "      <td>1525</td>\n",
       "      <td>1575</td>\n",
       "      <td>Steel, gold, leather</td>\n",
       "      <td>France</td>\n",
       "      <td>Armor Parts-Gauntlets</td>\n",
       "    </tr>\n",
       "    <tr>\n",
       "      <th>3</th>\n",
       "      <td>21813</td>\n",
       "      <td>False</td>\n",
       "      <td>True</td>\n",
       "      <td>Fencing shoulder and arm guard</td>\n",
       "      <td>Fencing Shoulder and Arm Guard</td>\n",
       "      <td></td>\n",
       "      <td></td>\n",
       "      <td></td>\n",
       "      <td></td>\n",
       "      <td>1590</td>\n",
       "      <td>1900</td>\n",
       "      <td>Cloth</td>\n",
       "      <td>Japan</td>\n",
       "      <td>Fencing Equipment</td>\n",
       "    </tr>\n",
       "    <tr>\n",
       "      <th>4</th>\n",
       "      <td>21814</td>\n",
       "      <td>False</td>\n",
       "      <td>True</td>\n",
       "      <td>Sword guard (Tsuba)</td>\n",
       "      <td>Sword guard (&lt;i&gt;Tsuba&lt;/i&gt;) Depicting Bodhidhar...</td>\n",
       "      <td></td>\n",
       "      <td></td>\n",
       "      <td></td>\n",
       "      <td></td>\n",
       "      <td>1701</td>\n",
       "      <td>1800</td>\n",
       "      <td>Iron, gold, silver</td>\n",
       "      <td>Japan</td>\n",
       "      <td>Sword Furniture-Tsuba</td>\n",
       "    </tr>\n",
       "    <tr>\n",
       "      <th>...</th>\n",
       "      <td>...</td>\n",
       "      <td>...</td>\n",
       "      <td>...</td>\n",
       "      <td>...</td>\n",
       "      <td>...</td>\n",
       "      <td>...</td>\n",
       "      <td>...</td>\n",
       "      <td>...</td>\n",
       "      <td>...</td>\n",
       "      <td>...</td>\n",
       "      <td>...</td>\n",
       "      <td>...</td>\n",
       "      <td>...</td>\n",
       "      <td>...</td>\n",
       "    </tr>\n",
       "    <tr>\n",
       "      <th>13608</th>\n",
       "      <td>27420</td>\n",
       "      <td>False</td>\n",
       "      <td>False</td>\n",
       "      <td>Rapier</td>\n",
       "      <td>Rapier</td>\n",
       "      <td></td>\n",
       "      <td></td>\n",
       "      <td></td>\n",
       "      <td></td>\n",
       "      <td>1551</td>\n",
       "      <td>1600</td>\n",
       "      <td>Steel, copper wire</td>\n",
       "      <td>Germany</td>\n",
       "      <td>Swords</td>\n",
       "    </tr>\n",
       "    <tr>\n",
       "      <th>13609</th>\n",
       "      <td>27421</td>\n",
       "      <td>False</td>\n",
       "      <td>False</td>\n",
       "      <td>Rapier</td>\n",
       "      <td>Rapier</td>\n",
       "      <td></td>\n",
       "      <td></td>\n",
       "      <td></td>\n",
       "      <td></td>\n",
       "      <td>1551</td>\n",
       "      <td>1600</td>\n",
       "      <td>Steel, leather</td>\n",
       "      <td>Germany</td>\n",
       "      <td>Swords</td>\n",
       "    </tr>\n",
       "    <tr>\n",
       "      <th>13610</th>\n",
       "      <td>27422</td>\n",
       "      <td>False</td>\n",
       "      <td>False</td>\n",
       "      <td>Rapier</td>\n",
       "      <td>Rapier</td>\n",
       "      <td></td>\n",
       "      <td></td>\n",
       "      <td></td>\n",
       "      <td></td>\n",
       "      <td>1550</td>\n",
       "      <td>1625</td>\n",
       "      <td>Steel, wood, shagreen</td>\n",
       "      <td>probably Germany</td>\n",
       "      <td>Swords</td>\n",
       "    </tr>\n",
       "    <tr>\n",
       "      <th>13611</th>\n",
       "      <td>27423</td>\n",
       "      <td>False</td>\n",
       "      <td>False</td>\n",
       "      <td>Rapier</td>\n",
       "      <td>Rapier</td>\n",
       "      <td></td>\n",
       "      <td></td>\n",
       "      <td></td>\n",
       "      <td></td>\n",
       "      <td>1551</td>\n",
       "      <td>1600</td>\n",
       "      <td>Steel</td>\n",
       "      <td>Germany and Spain</td>\n",
       "      <td>Swords</td>\n",
       "    </tr>\n",
       "    <tr>\n",
       "      <th>13612</th>\n",
       "      <td>27424</td>\n",
       "      <td>False</td>\n",
       "      <td>False</td>\n",
       "      <td>Hand-and-a-half sword</td>\n",
       "      <td>Hand-and-a-Half Sword</td>\n",
       "      <td></td>\n",
       "      <td></td>\n",
       "      <td></td>\n",
       "      <td></td>\n",
       "      <td>1621</td>\n",
       "      <td>1621</td>\n",
       "      <td>Steel, wood, leather</td>\n",
       "      <td>Germany</td>\n",
       "      <td>Swords</td>\n",
       "    </tr>\n",
       "  </tbody>\n",
       "</table>\n",
       "<p>13613 rows × 14 columns</p>\n",
       "</div>"
      ],
      "text/plain": [
       "       objectID  isHighlight  isPublicDomain  \\\n",
       "0         21810        False            True   \n",
       "1         21811        False            True   \n",
       "2         21812        False           False   \n",
       "3         21813        False            True   \n",
       "4         21814        False            True   \n",
       "...         ...          ...             ...   \n",
       "13608     27420        False           False   \n",
       "13609     27421        False           False   \n",
       "13610     27422        False           False   \n",
       "13611     27423        False           False   \n",
       "13612     27424        False           False   \n",
       "\n",
       "                                    objectName  \\\n",
       "0                                       Gorget   \n",
       "1      Blade and mounting for a sword (Katana)   \n",
       "2                     Thumb of a left gauntlet   \n",
       "3               Fencing shoulder and arm guard   \n",
       "4                          Sword guard (Tsuba)   \n",
       "...                                        ...   \n",
       "13608                                   Rapier   \n",
       "13609                                   Rapier   \n",
       "13610                                   Rapier   \n",
       "13611                                   Rapier   \n",
       "13612                    Hand-and-a-half sword   \n",
       "\n",
       "                                                   title artistRole  \\\n",
       "0      Gorget of an Officer of the King's American Re...              \n",
       "1                Blade and Mounting for a Sword (Katana)              \n",
       "2                               Thumb of a Left Gauntlet              \n",
       "3                         Fencing Shoulder and Arm Guard              \n",
       "4      Sword guard (<i>Tsuba</i>) Depicting Bodhidhar...              \n",
       "...                                                  ...        ...   \n",
       "13608                                             Rapier              \n",
       "13609                                             Rapier              \n",
       "13610                                             Rapier              \n",
       "13611                                             Rapier              \n",
       "13612                              Hand-and-a-Half Sword              \n",
       "\n",
       "      artistDisplayName artistBeginDate artistEndDate  objectBeginDate  \\\n",
       "0                                                                 1781   \n",
       "1                                                                 1801   \n",
       "2                                                                 1525   \n",
       "3                                                                 1590   \n",
       "4                                                                 1701   \n",
       "...                 ...             ...           ...              ...   \n",
       "13608                                                             1551   \n",
       "13609                                                             1551   \n",
       "13610                                                             1550   \n",
       "13611                                                             1551   \n",
       "13612                                                             1621   \n",
       "\n",
       "       objectEndDate                                             medium  \\\n",
       "0               1781                                        Brass, gold   \n",
       "1               1900  Steel, wood, lacquer, iron, gold, copper-gold ...   \n",
       "2               1575                               Steel, gold, leather   \n",
       "3               1900                                              Cloth   \n",
       "4               1800                                 Iron, gold, silver   \n",
       "...              ...                                                ...   \n",
       "13608           1600                                 Steel, copper wire   \n",
       "13609           1600                                     Steel, leather   \n",
       "13610           1625                              Steel, wood, shagreen   \n",
       "13611           1600                                              Steel   \n",
       "13612           1621                               Steel, wood, leather   \n",
       "\n",
       "                 country         classification  \n",
       "0                           Armor Parts-Gorgets  \n",
       "1                  Japan                 Swords  \n",
       "2                 France  Armor Parts-Gauntlets  \n",
       "3                  Japan      Fencing Equipment  \n",
       "4                  Japan  Sword Furniture-Tsuba  \n",
       "...                  ...                    ...  \n",
       "13608            Germany                 Swords  \n",
       "13609            Germany                 Swords  \n",
       "13610   probably Germany                 Swords  \n",
       "13611  Germany and Spain                 Swords  \n",
       "13612            Germany                 Swords  \n",
       "\n",
       "[13613 rows x 14 columns]"
      ]
     },
     "execution_count": 8,
     "metadata": {},
     "output_type": "execute_result"
    }
   ],
   "source": [
    "arms_and_armor_df"
   ]
  },
  {
   "cell_type": "markdown",
   "metadata": {},
   "source": [
    "The questions from the start were:\n",
    "\n",
    "   * What percentage of the collection is highlighted?\n",
    "   * What percentage is in the public domain?\n",
    "   * How many individual artists are represented?\n",
    "   * Who has the most works?\n",
    "   * A timeline with the birth and death of the artists.\n",
    "   * Which countries are most represented?\n",
    "   * Which countries are most highlighted compared to their presence in the collection?\n",
    "   * Which medium is the most used?\n",
    "   * What is classified most often?\n",
    "   \n",
    "   Lets look at these questions in order"
   ]
  },
  {
   "cell_type": "markdown",
   "metadata": {},
   "source": [
    "## What percentage of the collection is highlighted?"
   ]
  },
  {
   "cell_type": "code",
   "execution_count": 11,
   "metadata": {},
   "outputs": [],
   "source": [
    "total_highlighted = arms_and_armor_df.isHighlight.sum()"
   ]
  },
  {
   "cell_type": "code",
   "execution_count": 12,
   "metadata": {},
   "outputs": [],
   "source": [
    "total = len(arms_and_armor_df.index)"
   ]
  },
  {
   "cell_type": "code",
   "execution_count": 16,
   "metadata": {},
   "outputs": [
    {
     "data": {
      "text/plain": [
       "0.3966796444575039"
      ]
     },
     "execution_count": 16,
     "metadata": {},
     "output_type": "execute_result"
    }
   ],
   "source": [
    "(total_highlighted/total)*100"
   ]
  },
  {
   "cell_type": "markdown",
   "metadata": {},
   "source": [
    "0.3% of exhibits are highlighted"
   ]
  },
  {
   "cell_type": "markdown",
   "metadata": {},
   "source": [
    "## What percentage is in the public domain?"
   ]
  },
  {
   "cell_type": "code",
   "execution_count": 17,
   "metadata": {},
   "outputs": [],
   "source": [
    "total_public= arms_and_armor_df.isPublicDomain.sum()"
   ]
  },
  {
   "cell_type": "code",
   "execution_count": 18,
   "metadata": {},
   "outputs": [
    {
     "data": {
      "text/plain": [
       "51.03210166752369"
      ]
     },
     "execution_count": 18,
     "metadata": {},
     "output_type": "execute_result"
    }
   ],
   "source": [
    "(total_public/total)*100"
   ]
  },
  {
   "cell_type": "markdown",
   "metadata": {},
   "source": [
    "51% of exhibits are in the public domain"
   ]
  },
  {
   "cell_type": "markdown",
   "metadata": {},
   "source": [
    "## What percentage of items highlighted are in the public domain?"
   ]
  },
  {
   "cell_type": "code",
   "execution_count": 22,
   "metadata": {},
   "outputs": [],
   "source": [
    "highlighted_and_public_domain = (arms_and_armor_df.isHighlight & arms_and_armor_df.isPublicDomain).sum()"
   ]
  },
  {
   "cell_type": "code",
   "execution_count": 23,
   "metadata": {},
   "outputs": [
    {
     "data": {
      "text/plain": [
       "98.14814814814815"
      ]
     },
     "execution_count": 23,
     "metadata": {},
     "output_type": "execute_result"
    }
   ],
   "source": [
    "(highlighted_and_public_domain / total_highlighted)*100"
   ]
  },
  {
   "cell_type": "markdown",
   "metadata": {},
   "source": [
    "Over 98% of of the highlighted exhibits are in the public domain."
   ]
  },
  {
   "cell_type": "markdown",
   "metadata": {},
   "source": [
    "### Which items are not in the Public domain but are highlighted?"
   ]
  },
  {
   "cell_type": "code",
   "execution_count": 30,
   "metadata": {},
   "outputs": [
    {
     "data": {
      "text/html": [
       "<div>\n",
       "<style scoped>\n",
       "    .dataframe tbody tr th:only-of-type {\n",
       "        vertical-align: middle;\n",
       "    }\n",
       "\n",
       "    .dataframe tbody tr th {\n",
       "        vertical-align: top;\n",
       "    }\n",
       "\n",
       "    .dataframe thead th {\n",
       "        text-align: right;\n",
       "    }\n",
       "</style>\n",
       "<table border=\"1\" class=\"dataframe\">\n",
       "  <thead>\n",
       "    <tr style=\"text-align: right;\">\n",
       "      <th></th>\n",
       "      <th>objectID</th>\n",
       "      <th>isHighlight</th>\n",
       "      <th>isPublicDomain</th>\n",
       "      <th>objectName</th>\n",
       "      <th>title</th>\n",
       "      <th>artistRole</th>\n",
       "      <th>artistDisplayName</th>\n",
       "      <th>artistBeginDate</th>\n",
       "      <th>artistEndDate</th>\n",
       "      <th>objectBeginDate</th>\n",
       "      <th>objectEndDate</th>\n",
       "      <th>medium</th>\n",
       "      <th>country</th>\n",
       "      <th>classification</th>\n",
       "    </tr>\n",
       "  </thead>\n",
       "  <tbody>\n",
       "    <tr>\n",
       "      <th>5213</th>\n",
       "      <td>27792</td>\n",
       "      <td>True</td>\n",
       "      <td>False</td>\n",
       "      <td>Harquebusier's armor with buff coat</td>\n",
       "      <td>Harquebusier's Armor of Pedro II, King of Port...</td>\n",
       "      <td>Armorer</td>\n",
       "      <td>Richard Holden</td>\n",
       "      <td>1658</td>\n",
       "      <td>1708</td>\n",
       "      <td>1601</td>\n",
       "      <td>1916</td>\n",
       "      <td>Steel, gold, leather, textile</td>\n",
       "      <td></td>\n",
       "      <td>Armor for Man</td>\n",
       "    </tr>\n",
       "  </tbody>\n",
       "</table>\n",
       "</div>"
      ],
      "text/plain": [
       "      objectID  isHighlight  isPublicDomain  \\\n",
       "5213     27792         True           False   \n",
       "\n",
       "                               objectName  \\\n",
       "5213  Harquebusier's armor with buff coat   \n",
       "\n",
       "                                                  title artistRole  \\\n",
       "5213  Harquebusier's Armor of Pedro II, King of Port...    Armorer   \n",
       "\n",
       "     artistDisplayName artistBeginDate artistEndDate  objectBeginDate  \\\n",
       "5213    Richard Holden            1658          1708             1601   \n",
       "\n",
       "      objectEndDate                         medium country classification  \n",
       "5213           1916  Steel, gold, leather, textile          Armor for Man  "
      ]
     },
     "execution_count": 30,
     "metadata": {},
     "output_type": "execute_result"
    }
   ],
   "source": [
    "arms_and_armor_df[(arms_and_armor_df.isHighlight & ~arms_and_armor_df.isPublicDomain)]"
   ]
  },
  {
   "cell_type": "markdown",
   "metadata": {},
   "source": [
    "Only one! Harquebusier's armor of Pedro II"
   ]
  },
  {
   "cell_type": "markdown",
   "metadata": {},
   "source": [
    "## What percentage of items are public domain but not highlighted?"
   ]
  },
  {
   "cell_type": "code",
   "execution_count": 31,
   "metadata": {},
   "outputs": [
    {
     "data": {
      "text/plain": [
       "0.7629192457175759"
      ]
     },
     "execution_count": 31,
     "metadata": {},
     "output_type": "execute_result"
    }
   ],
   "source": [
    "(highlighted_and_public_domain / total_public)*100"
   ]
  },
  {
   "cell_type": "markdown",
   "metadata": {},
   "source": [
    "0.7% of public domain items are highlighted."
   ]
  },
  {
   "cell_type": "code",
   "execution_count": null,
   "metadata": {},
   "outputs": [],
   "source": []
  }
 ],
 "metadata": {
  "kernelspec": {
   "display_name": "Python 3",
   "language": "python",
   "name": "python3"
  },
  "language_info": {
   "codemirror_mode": {
    "name": "ipython",
    "version": 3
   },
   "file_extension": ".py",
   "mimetype": "text/x-python",
   "name": "python",
   "nbconvert_exporter": "python",
   "pygments_lexer": "ipython3",
   "version": "3.8.5"
  }
 },
 "nbformat": 4,
 "nbformat_minor": 4
}
